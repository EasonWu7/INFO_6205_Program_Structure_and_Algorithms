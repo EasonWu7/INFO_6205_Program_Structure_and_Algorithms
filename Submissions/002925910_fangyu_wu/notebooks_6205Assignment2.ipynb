{
  "metadata": {
    "toc-autonumbering": true,
    "language_info": {
      "codemirror_mode": {
        "name": "python",
        "version": 3
      },
      "file_extension": ".py",
      "mimetype": "text/x-python",
      "name": "python",
      "nbconvert_exporter": "python",
      "pygments_lexer": "ipython3",
      "version": "3.8"
    },
    "kernelspec": {
      "name": "python",
      "display_name": "Python (Pyodide)",
      "language": "python"
    }
  },
  "nbformat_minor": 4,
  "nbformat": 4,
  "cells": [
    {
      "cell_type": "markdown",
      "source": "INFO 6205-Program Structure and Algorithms Worked Assignment 2 Solutions",
      "metadata": {}
    },
    {
      "cell_type": "markdown",
      "source": "Student Name:Fangyu Wu",
      "metadata": {}
    },
    {
      "cell_type": "markdown",
      "source": "Professor: Nik Bear Brown",
      "metadata": {}
    },
    {
      "cell_type": "markdown",
      "source": "Q1:Use Kruskal's algorithm to find a minimum spanning tree for the connected weighted graph below:",
      "metadata": {}
    },
    {
      "cell_type": "markdown",
      "source": "Graph:\nA --5-- B\n|      / |\n|     /  |\n4    2   3\n|  /     |\nC --1-- D\n",
      "metadata": {}
    },
    {
      "cell_type": "markdown",
      "source": "Soulution:\n\nFirst, we sort the edges by weight:\n\nEdges: (C, D) - weight 1\n       (A, C) - weight 4\n       (B, D) - weight 2\n       (A, B) - weight 5\n       (B, C) - weight 3\n       \nNow, we start with the smallest weight, edge (C, D) with weight 1. We add it to the MST, resulting in MST={ (C, D) }.\n\nNext, edge (A, C) with weight 4. We add it to the MST, resulting in MST={ (C, D), (A, C) }.\n\nEdge (B, D) with weight 2. We add it to the MST, resulting in MST={ (C, D), (A, C), (B, D) }.\n\nEdge (A, B) with weight 5. We add it to the MST, resulting in MST={ (C, D), (A, C), (B, D), (A, B) }.\n\nFinally, edge (B, C) with weight 3. We add it to the MST, resulting in MST={ (C, D), (A, C), (B, D), (A, B), (B, C) }.\n\nNow, the MST contains all the vertices, and it is the Minimum Spanning Tree of the given graph:\n\nMST={ (C, D), (A, C), (B, D), (A, B), (B, C) }\n",
      "metadata": {}
    },
    {
      "cell_type": "markdown",
      "source": "",
      "metadata": {}
    },
    {
      "cell_type": "markdown",
      "source": "Q2:Given the DAG below,\n\nA --> B --> C\n|          |\nv          v\nD --> E --- F\n\nExpress the directed graph above as:\nA. An adjacency list \nB. An adjacency matrix \n\nCan the directed graph be topologically sorted? If so, produce a topological sort for the graph. \n",
      "metadata": {}
    },
    {
      "cell_type": "markdown",
      "source": "Solution:\n\nAdjacency List:\nA -> B\nB -> C\nA -> D\nD -> E\nE -> F\nB -> F\n\nIn an adjacency list representation, each vertex (node) is associated with a list of its adjacent vertices. The arrows \"->\" indicate the direction of the edges in the graph.\n\nAdjacency Matrix:\n\n   A  B  C  D  E  F\nA  0  1  0  1  0  0\nB  0  0  1  0  0  1\nC  0  0  0  0  0  0\nD  0  0  0  0  1  0\nE  0  0  0  0  0  1\nF  0  0  0  0  0  0\n\nIn an adjacency matrix representation, rows and columns correspond to vertices, and the matrix elements indicate whether there is a direct edge between two vertices. A \"1\" in the matrix represents the presence of an edge, and \"0\" represents no edge.\n\n\nTopological Sort: A -> D -> B -> E -> F -> C\n\nA topological ordering is a method of ordering a directed graph that requires that in the ordering, each edge is from left to right, i.e., it does not violate the direction of the edges in the directed graph. In a given directed graph, we can find a valid topological ordering for the sequence shown below:\n\nWe start at node A because A has no incoming edges.\nThen move to node D, since D is pointed to by A and no other node depends on D.\nNext is node B, since B is pointed to by A and no other node depends on B.\nThen there is node E, since E is pointed to by D and no other node depends on E.\nThis is followed by node F, since F is pointed to by B and E and no other node depends on F.\nFinally, we reach node C because C is pointed to by F and no other node depends on C.\n\nThis topological ordering satisfies the requirements of topological ordering in that all edges are left-to-right and there is no violation of the direction of the edges in the directed graph. Thus, this is a valid topological ordering for a given directed graph.Topological ordering is often used to represent dependencies or order of computation of tasks, ensuring that tasks are performed in the correct order. In this case, the above topological ordering represents a way to execute the nodes in the graph in order without violating the dependencies.",
      "metadata": {}
    },
    {
      "cell_type": "markdown",
      "source": "",
      "metadata": {}
    },
    {
      "cell_type": "markdown",
      "source": "Q3:For each of the following recurrences, determine whether the Master Theorem can be applied to solve them. If it can be applied, provide an expression for the runtime T(n) using the Master Theorem. If the Master Theorem does not apply, please indicate so.\n\ni. T(n) = 2T(n/2) + n\nii. T(n) = 4T(n/2) + n^2\niii. T(n) = 3T(n/3) + n^2\niv. T(n) = 2T(n/4) + √n\nv. T(n) = 5T(n/5) + n log^n",
      "metadata": {}
    },
    {
      "cell_type": "markdown",
      "source": "Solution：\n\ni. T(n) = 2T(n/2) + n\n\nThis recurrence is in the form T(n) = aT(n/b) + f(n) with a = 2 and b = 2. According to the Master Theorem, it falls into Case 2:\n\nif f(n) is Θ(n^c) for c < logb(a),then T(n) is Θ(n^logb(a)).\n\nIn this case,c = 1 and log2(2) = 1,which means c = logb(a).Therefore, the Master Theorem does not apply.\n\n\nii. T(n) = 4T(n/2) + n^2\n\nThis recurrence is in the form T(n) = aT(n/b) + f(n) with a = 4 and b = 2. According to the Master Theorem, it falls into Case 1:\n\nif f(n) is O(n^c) for c < logb(a),then T(n) is Θ(n^logb(a)).\n\nin this case,c = 2 and log2(4) = 2.Since c is less than logb(a),the Master Theorem applies.Therefore,T(n) is Θ(n^2)\n\n\niii. T(n) = 3T(n/3) + n^2\n\nThis recurrence is in the form T(n) = aT(n/b) + f(n) with a = 3 and b = 3. According to the Master Theorem, it falls into Case 2:\n\nif f(n) is Θ(n^c) for c < logb(a),then T(n) is Θ(n^logb(a)).\n\nin this case,c = 2 and log3(3) = 1.Since c is less than logb(a),the Master Theorem applies.Therefore,T(n) is Θ(n^log3(3)) = Θ(n).\n\n\niv. T(n) = 2T(n/4) + √n\n\nThis recurrence is in the form T(n) = aT(n/b) + f(n) with a = 2 and b = 4. According to the Master Theorem, it falls into Case 3:\n\nif f(n) is Θ(n^c) for c > logb(a),then T(n) is Θ(f(n)).\n\nin this case,c = 1/2 and log4(2) < 1/2.Since c is greater than logb(a),the Master Theorem does not apply.\n\nv. T(n) = 5T(n/5) + n log^n\n\nThis recurrence is in the form T(n) = aT(n/b) + f(n) with a = 5 and b = 5. According to the Master Theorem, it falls into Case 1:\n\nif f(n) is O(n^c) for c < logb(a),then T(n) is Θ(n^logb(a)).\n\nin this case,c = 1 and log5(5) = 1.Since c is less than logb(a),the Master Theorem applies.Therefore,T(n) is Θ(n^log5(5)) = Θ(n).",
      "metadata": {}
    },
    {
      "cell_type": "markdown",
      "source": "",
      "metadata": {}
    },
    {
      "cell_type": "markdown",
      "source": "Q4:You are given a list of intervals, each with a start time, an end time, and an associated value. Your task is to select a subset of non-overlapping intervals with the maximum combined value. Use dynamic programming to solve this problem.\n\nIntervals:\n\n1.Interval: [1, 3], Value: 10\n\n2.Interval: [2, 5], Value: 20\n\n3.Interval: [5, 8], Value: 15\n\n4.Interval: [7, 10], Value: 30\n\n5.Interval: [9, 12], Value: 25\n\nFind the subset of intervals that maximizes the combined value without overlapping. You can use dynamic programming techniques to solve this problem and provide the selected intervals and their total combined value.",
      "metadata": {}
    },
    {
      "cell_type": "markdown",
      "source": "Solution:\n\nSorted by end times:\n\n1.Interval: [1, 3], Value: 10\n\n2.Interval: [2, 5], Value: 20\n\n3.Interval: [5, 8], Value: 15\n\n4.Interval: [7, 10], Value: 30\n\n5.Interval: [9, 12], Value: 25\n\nNow, let's calculate the maximum combined value for each interval:\n\nFor interval 1: Including it gives a value of 10, excluding it gives a value of 0.\nFor interval 2: Including it gives a value of 20, excluding it gives a value of 10 (from interval 1).\nFor interval 3: Including it gives a value of 25 (10 from interval 1 + 15), excluding it gives a value of 20 (from interval 2).\nFor interval 4: Including it gives a value of 55 (20 from interval 2 + 35), excluding it gives a value of 45 (from interval 3).\nFor interval 5: Including it gives a value of 80 (45 from interval 3 + 35), excluding it gives a value of 55 (from interval 4).\nNow, we have the maximum combined value for each interval:\n\nMaximum Combined Value: [10, 20, 25, 55, 80]\nPrevious Index: [None, None, 0, 1, 2]\n\nTo find the selected intervals that maximize the combined value, we can trace back the previous index array:\n\nInterval 5 is selected (with a value of 25) from index 4.\nInterval 4 is selected (with a value of 30) from index 3.\nInterval 2 is selected (with a value of 20) from index 0.\n\nSo, the selected non-overlapping intervals with the maximum combined value are:\n\nInterval: [1, 3], Value: 10\nInterval: [2, 5], Value: 20\nInterval: [7, 10], Value: 30\n\nTheir total combined value is 60.These intervals maximize the combined value without overlapping, and their total value is 60.",
      "metadata": {}
    },
    {
      "cell_type": "markdown",
      "source": "",
      "metadata": {}
    },
    {
      "cell_type": "markdown",
      "source": "Q5:You are given a set of items, each with a weight and a value, and a knapsack with a weight limit, W. Your task is to select a subset of items with the maximum combined value that can fit into the knapsack. Use dynamic programming to solve this problem.\n\nItems:\n\nItem 1: Weight: 2, Value: 10\n\nItem 2: Weight: 3, Value: 15\n\nItem 3: Weight: 5, Value: 30\n\nItem 4: Weight: 7, Value: 35\n\nItem 5: Weight: 1, Value: 5\n\nWeight Limit (W): 9\n\nFind the subset of items that maximizes the combined value within the weight limit of 9. Please provide the selected items and their total combined value, along with a detailed explanation of the solution.",
      "metadata": {}
    },
    {
      "cell_type": "markdown",
      "source": "Solution:\nWe can create a 2D table where rows represent the items and columns represent the available weights (from 0 to W). Each cell in the table will store the maximum value that can be achieved with the given items and weight limit.\n\nHere's the dynamic programming table:\n\n   W: 0  1  2  3  4  5  6  7  8  9\n1.  0  0 10 10 10 10 10 10 10 10\n2.  0  0 10 15 25 25 25 25 25 25\n3.  0  0 10 15 25 30 40 45 55 60\n4.  0  0 10 15 25 30 40 35 45 50\n5.  0  5 10 15 25 30 40 35 45 50\n\nLet's break down the process:\n\nRow 1 represents item 1 (weight: 2, value: 10).\nRow 2 represents item 2 (weight: 3, value: 15).\nRow 3 represents item 3 (weight: 5, value: 30).\nRow 4 represents item 4 (weight: 7, value: 35).\nRow 5 represents item 5 (weight: 1, value: 5).\nEach cell (i, j) in the table represents the maximum value that can be achieved up to item i with a knapsack of weight limit j.\n\nIf the weight of the current item (item i) is greater than the current weight limit (j), the cell value is the same as the cell above it (i.e., the value without including the current item).\n\nIf the weight of the current item is less than or equal to the current weight limit, we have two choices:\n\n1.Exclude the current item: The value in the cell is the same as the value in the cell above it (i.e., the value without including the current item).\n\n2.Include the current item: The value in the cell is the sum of the value of the current item and the value in the cell in the same row but at the column (j - weight of the current item) representing the remaining weight capacity.\n\nNow, let's find the selected items and their total combined value:\n\nStarting from the bottom-right corner of the table (row 5, column 9), we trace back the path that led to this maximum value:\n\nWe included item 5 (Value: 5, Weight: 1). Move to cell (row 4, column 8).\nWe included item 4 (Value: 35, Weight: 7). Move to cell (row 3, column 3).\nWe included item 3 (Value: 30, Weight: 5). Move to cell (row 2, column 0).\nWe included item 2 (Value: 15, Weight: 3). Move to cell (row 1, column 0).\n\nNow, we have selected the following items:\n\nItem 2 (Weight: 3, Value: 15)\nItem 3 (Weight: 5, Value: 30)\nItem 4 (Weight: 7, Value: 35)\nItem 5 (Weight: 1, Value: 5)\nTheir total combined value is 15 + 30 + 35 + 5 = 85.\n\nSo, the selected items that maximize the combined value within the weight limit of 9 are items 2, 3, 4, and 5, with a total combined value of 85.",
      "metadata": {}
    },
    {
      "cell_type": "markdown",
      "source": "",
      "metadata": {}
    },
    {
      "cell_type": "markdown",
      "source": "Q6:Consider a famous poem or song with multiple verses, such as \"The Raven\" by Edgar Allan Poe or \"Imagine\" by John Lennon. These poems/songs have a structure where each verse builds upon the previous one, often with slight variations or additional lines.\n\nYour task is to design a script that encodes the entire poem or song while minimizing the script's length. The script should allow someone to recreate and recite the entire poem or sing the song without repeating all the previous verses each time. Each line of the poem/song has a length bounded by a constant c.\n\nDefine a function f(n) that represents the length of the script in terms of the total number of words or characters (n) in the poem or song. Optimize f(n) to minimize the script's length while preserving the full content and structure of the original poem or song.\n\nThis problem challenges you to find an efficient way to encode and represent complex poems or songs in a compact script, ensuring that the script's length remains minimal while allowing for complete recitation or performance.",
      "metadata": {}
    },
    {
      "cell_type": "markdown",
      "source": "Solution:\n1.Verse Segmentation: Break the poem/song into individual verses or sections. Each verse should encapsulate a complete thought or idea.\n\n2.Common Lines: Identify lines that are repeated or slightly modified in multiple verses. These lines are candidates for optimization.\n\n3.Line Indexing: Assign a unique index to each line in the poem/song. This index will be used in the script to reference specific lines.\n\n4.Script Generation: Create a script that consists of instructions and references to lines in the poem/song. The script will be minimal and optimized for brevity.\n\nBegin the script with an introduction, indicating the title and author of the poem/song.\n\nFor each verse, include a reference to the common lines by their assigned indices. For example:\n\nVerse 1:\nLine 1\nLine 2\nLine 3\n\nVerse 2:\nRef Line 1\nRef Line 4\nRef Line 3\nLine 5\n\n5.Optimization Strategy:\nFor the first verse, include all lines in full to establish the base.\nFor subsequent verses, reference common lines and only include new lines or variations from the previous verse.\n\n6.Encoding the Script: To further optimize the script's length, you can use encoding techniques such as Huffman coding or variable-length encoding for frequently occurring words or phrases. This will reduce the script's length even more.\n\nExample:\nLet's consider the poem \"The Raven\" by Edgar Allan Poe. It has a repeated refrain of \"Nevermore.\" The script for the poem could look like this:\n\nTitle: The Raven\nAuthor: Edgar Allan Poe\n\nVerse 1:\nOnce upon a midnight dreary\nWhile I pondered, weak and weary\nOver many a quaint and curious volume of forgotten lore\n    (include full lines 1-4 here)\nAnd the only word there spoken\n    (include full lines 7-8 here)\nNameless here for evermore\n\nVerse 2:\nRef Line 1\nRef Line 2\nRef Line 3\nRef Line 4\nAnd the only word there spoken\n    (include full lines 7-8 here)\nNameless here for evermore\n\nIn this example, we optimize the script by referencing common lines (e.g., \"Once upon a midnight dreary\") and only including new lines or variations in each verse. This approach minimizes the script's length while preserving the poem's content and structure.\n\nThe specific optimization strategy and encoding techniques may vary depending on the complexity of the poem or song, but the key is to identify common elements and reference them efficiently in the script.",
      "metadata": {}
    },
    {
      "cell_type": "markdown",
      "source": "",
      "metadata": {}
    },
    {
      "cell_type": "markdown",
      "source": "Q7:In a binary tree, each node has at most two children. Prove by induction that in any binary tree, the number of nodes with exactly one child is equal to the number of internal nodes (non-leaf nodes).",
      "metadata": {}
    },
    {
      "cell_type": "markdown",
      "source": "Solution:\nBase Case (n = 1):\nFor a binary tree with only one node (the root), there are no nodes with exactly one child, and there is one leaf node (the root itself). In this case, the statement holds because 0 (nodes with one child) is equal to 0 (internal nodes).\n\nInductive Hypothesis:\nAssume that for a binary tree with n nodes, the number of nodes with exactly one child is equal to the number of internal nodes (non-leaf nodes).\n\nInductive Step:\nWe need to prove that this statement holds for a binary tree with (n+1) nodes.\n\nConsider a binary tree with (n+1) nodes. We know from the inductive hypothesis that for any binary tree with n nodes, the number of nodes with exactly one child is equal to the number of internal nodes.\n\nNow, let's add one more node to the tree. There are two possible scenarios:\n\n1.The new node becomes a leaf (i.e., it has no children). In this case, the number of nodes with exactly one child remains the same, and the number of internal nodes increases by one. The statement still holds because we have not changed the existing structure.\n\n2.The new node becomes an internal node with exactly one child. In this case, the number of nodes with exactly one child increases by one, and the number of internal nodes also increases by one. Again, the statement continues to hold.\n\nIn both scenarios, the equality between the number of nodes with exactly one child and the number of internal nodes is preserved. Since we know from the inductive hypothesis that the equality holds for binary trees with n nodes, this relationship continues to hold for binary trees with (n+1) nodes.\n\nTherefore, by induction, we can conclude that in any binary tree, the number of nodes with exactly one child is equal to the number of internal nodes (non-leaf nodes).",
      "metadata": {}
    },
    {
      "cell_type": "markdown",
      "source": "",
      "metadata": {}
    },
    {
      "cell_type": "markdown",
      "source": "Q8: You are given two sequences of integers, A and B, each with lengths n and m, respectively. Your task is to design an algorithm that efficiently determines whether sequence B can be formed by taking a subsequence of sequence A. A subsequence of A is obtained by deleting zero or more elements from A while maintaining the order of the remaining elements.\n\nYour algorithm should have a time complexity of O(n + m), ensuring efficient subsequence detection.",
      "metadata": {}
    },
    {
      "cell_type": "markdown",
      "source": "Solution:\nInitialize two pointers, i for sequence A and j for sequence B, both initially set to 0.\n\nIterate through both sequences while comparing their elements:\n\nIf A[i] is equal to B[j], increment both i and j. This means we've found a matching element in both sequences.\nIf A[i] is not equal to B[j], only increment i. We keep searching for a match in sequence A.\nContinue this process until you reach the end of either sequence A or sequence B.\n\nAfter the loop, if j has reached the end of sequence B, it means that every element in sequence B was found in sequence A in the same order, making B a subsequence of A. Return true.\n\nIf you reach the end of sequence A without finding all elements in sequence B, return false.\n\nHere's a Python implementation of the algorithm:",
      "metadata": {}
    },
    {
      "cell_type": "code",
      "source": "def isSubsequence(A, B):\n    i, j = 0, 0\n\n    while i < len(A) and j < len(B):\n        if A[i] == B[j]:\n            j += 1\n        i += 1\n\n    return j == len(B)\n\n# Example usage:\nA = [3, 5, 7, 9, 11, 13]\nB = [5, 9, 13]\nresult = isSubsequence(A, B)\nprint(result)  # Output: True",
      "metadata": {
        "trusted": true
      },
      "execution_count": 1,
      "outputs": [
        {
          "name": "stdout",
          "text": "True\n",
          "output_type": "stream"
        }
      ]
    },
    {
      "cell_type": "markdown",
      "source": "The algorithm efficiently compares the elements of both sequences in a single pass with a time complexity of O(n + m). If j reaches the end of sequence B, it confirms that B is a subsequence of A, and the algorithm returns true. Otherwise, it returns false.",
      "metadata": {}
    },
    {
      "cell_type": "markdown",
      "source": "",
      "metadata": {}
    },
    {
      "cell_type": "markdown",
      "source": "Reflection:\n\n1.I figure out what the underlying algorithmic concept of the problem is based on the sample problem provided, then learn this algorithmic concept from chatgpt, try to write some structure of the problem, bring in the appropriate data, and ultimately bring it into chatgpt to validate the soundness of the problem and modify it\n\n2.Firstly I may have too little knowledge of algorithmic concepts and need a lot of time to learn them, and secondly I need to innovate on the topic, which requires me to thoroughly understand the underlying algorithmic concepts of the topic.\n\n3.I learned the following knowledge of algorithmic problems through this assignment:\n    1.Understand the Kruskal algorithm and Learned the principles and steps of the Kruskal algorithm.\n    2.Understanding Directed Acyclic Graphs (DAG) and Understand how to represent and store graph data structures, specifically how to represent directed graphs using adjacency lists and adjacency matrices.\n    3.Learned the concepts and applications of Master's Theorem, a useful tool for solving complexity analyses of recursive algorithms.\n    4.Learned how to use dynamic programming to solve optimization problems. In this case, you need to select a set of non-overlapping intervals to maximize the sum of their associated values.\n    5.Learned how to define states and how to construct recursive relationships to compute the optimal solution to a problem. In this problem, the state is the maximum total value when considering the first few items.\n    6.Learned how to compress data into a more compact representation while retaining the original information. This is important for saving storage space or transmitting data.\n    7.Learned how to use mathematical induction to prove the relationship of node attributes in a binary tree and How to construct a proof of mathematical induction, including the basic case, the induction hypothesis, and the steps of induction.\n    8.Learned how to design an efficient algorithm to detect whether a sequence can form a subsequence by removing zero or more elements from another sequence.",
      "metadata": {}
    }
  ]
}